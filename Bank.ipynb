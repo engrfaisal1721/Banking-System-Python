{
 "cells": [
  {
   "cell_type": "markdown",
   "id": "68f6633b",
   "metadata": {},
   "source": [
    " Banking System Using Python"
   ]
  },
  {
   "cell_type": "code",
   "execution_count": null,
   "id": "aac70c98",
   "metadata": {},
   "outputs": [
    {
     "name": "stdout",
     "output_type": "stream",
     "text": [
      "Deposited:25000 & New Balance is: 75000\n",
      "Withdraw: 50000 & Remaining Balance is: 25000\n",
      "Current Balance is: 25000\n"
     ]
    }
   ],
   "source": [
    "class BankAccount:\n",
    "    def __init__(self,Account_Number,Account_Holder,Balance):\n",
    "        self.ccount_Number=Account_Number\n",
    "        self.Account_Holder=Account_Holder\n",
    "        self.Balance=Balance\n",
    "\n",
    "    def Deposite(self,amount):\n",
    "        if amount>0:\n",
    "            self.Balance+=amount\n",
    "            print(f\"Deposited:{amount} & New Balance is: {self.Balance}\")\n",
    "        else:\n",
    "            print(\"Deposite Amount Must Be Possitive\")\n",
    "\n",
    "    def Withdraw(self,amount):\n",
    "        if amount<self.Balance:\n",
    "            self.Balance-=amount\n",
    "            print(f\"Withdraw: {amount} & Remaining Balance is: {self.Balance}\")\n",
    "        else:\n",
    "            print(\"Insufficient Balance\")\n",
    "            \n",
    "    def GetBalance(self):\n",
    "        print(f\"Current Balance is: {self.Balance}\")\n",
    "\n",
    "\n",
    "acc1=BankAccount(\"abc\",\"Faisal\",50000)\n",
    "acc1.Deposite(25000)\n",
    "acc1.Withdraw(50000)\n",
    "acc1.GetBalance()\n",
    "    "
   ]
  }
 ],
 "metadata": {
  "language_info": {
   "name": "python"
  }
 },
 "nbformat": 4,
 "nbformat_minor": 5
}
